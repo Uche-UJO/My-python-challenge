{
 "cells": [
  {
   "cell_type": "code",
   "execution_count": 1,
   "metadata": {},
   "outputs": [],
   "source": [
    "# Import dependencies\n",
    "import os, csv\n",
    "from pathlib import Path \n",
    "\n",
    "# Assign file location with the pathlib library\n",
    "#csv_file_path = Path('My-python-challenge', 'PyElections', 'houston_election_data.csv')\n",
    "\n",
    "csv_file_path = Path('..', 'Resources','houston_election_data.csv')\n",
    "\n",
    "#import os, os.path\n",
    "#import csv\n",
    "import operator\n",
    "\n",
    "#with open('election_data.csv') as csv_file:\n",
    "    #csv_reader = csv.reader(csv_file)\n",
    "\n",
    "#list = os.listdir('houston_election_data.csv')\n",
    "#list = os.listdir('Resources')\n",
    "#number_files = len(list)\n",
    "\n",
    "# Grab Election CSV files\n",
    "\n",
    "#for numbers in range(number_files):\n",
    " #   electioncsv = os.path.join('..', 'Resources','houston_election_data.csv')\n",
    "   # Set empty list variables\n"
   ]
  },
  {
   "cell_type": "code",
   "execution_count": 2,
   "metadata": {},
   "outputs": [
    {
     "name": "stdout",
     "output_type": "stream",
     "text": [
      "C:\\Users\\User\\Desktop\\My-python-challenge\\PyElections\\Resources\n"
     ]
    }
   ],
   "source": [
    "cwd = os.getcwd()  # Get the current working directory (cwd)\n",
    "#files = os.listdir(cwd)  # Get all the files in that directory\n",
    "#print(\"Files in %r: %s\" % (cwd, files))\n",
    "print(cwd)"
   ]
  },
  {
   "cell_type": "code",
   "execution_count": 3,
   "metadata": {},
   "outputs": [],
   "source": [
    "# Declare Variables \n",
    "total_votes = 0\n",
    "boykins_votes = 0\n",
    "king_votes = 0\n",
    "turner_votes = 0\n",
    "buzbee_votes = 0\n",
    "romero_votes = 0\n",
    "smith_votes = 0\n",
    "broze_votes = 0\n",
    "#taylor_votes = 0\n",
    "baker_votes = 0\n",
    "houjami_votes = 0\n",
    "vasquez_votes = 0\n",
    "lovell_votes = 0"
   ]
  },
  {
   "cell_type": "code",
   "execution_count": 4,
   "metadata": {},
   "outputs": [],
   "source": [
    "\n",
    "\n",
    "\n",
    "\n",
    "# Open csv in default read mode with context manager\n",
    "with open(csv_file_path,newline=\"\", encoding=\"utf-8\") as elections:\n",
    "\n",
    "    # Store data under the csvreader variable\n",
    "    csvreader = csv.reader(elections,delimiter=\",\") \n",
    "\n",
    "    # Skip the header so we iterate through the actual values\n",
    "    header = next(csvreader)     \n",
    "\n",
    "    # Iterate through each row in the csv\n",
    "    for row in csvreader: \n",
    "\n",
    "        #Count the unique Voter ID's and store in variable  called total_votes\n",
    "        total_votes +=1\n",
    "\n",
    "        #Count the number of times names appear and store in a list.\n",
    "        #Use these values in percent vote calculation and in print statement.\n",
    "        if row[0] == \"Dwight A. Boykins\": \n",
    "            boykins_votes +=1\n",
    "        elif row[0] == \"Bill King\":\n",
    "            king_votes +=1\n",
    "        elif row[0] == \"Sylvester Turner\": \n",
    "            turner_votes +=1\n",
    "        elif row[0] == \"Tony Buzbee\":\n",
    "            buzbee_votes +=1\n",
    "        elif row[0] == \"Victoria Romero\":\n",
    "            romero_votes +=1\n",
    "        elif row[0] == \"Demetria Smith\": \n",
    "            smith_votes +=1\n",
    "        elif row[0] == \"Derrick Broze\":\n",
    "            broze_votes +=1\n",
    "        #elif row[0] == \"Johnny J.T. Taylor\":\n",
    "            #taylor_votes +=1\n",
    "        elif row[0] == \"Kendall Baker\": \n",
    "            baker_votes +=1\n",
    "        elif row[0] == \"Naoufal Houjami\":\n",
    "            houjami_votes +=1\n",
    "        elif row[0] == \"Roy J. Vasquez\":\n",
    "            vasquez_votes +=1\n",
    "        elif row[0] == \"Sue Lovell\": \n",
    "            lovell_votes +=1\n",
    "        \n",
    "\n"
   ]
  },
  {
   "cell_type": "code",
   "execution_count": 5,
   "metadata": {},
   "outputs": [],
   "source": [
    " # Create a dictionary out of the two lists above.\n",
    "candidates = [\"Dwight A. Boykins\", \"Bill King\", \"Sylvester Turner\", \"Tony Buzbee\", \"Victoria Romero\", \"Demetria Smith\", \"Derrick Broze\", \"Kendall Baker\", \"Naoufal Houjami\", \"Roy J. Vasquez\", \"Sue Lovell\"]\n",
    "votes = [boykins_votes, king_votes, turner_votes, buzbee_votes, romero_votes, smith_votes, broze_votes, baker_votes, houjami_votes, vasquez_votes, lovell_votes]\n",
    "\n",
    "# Zip two lists together i.e. list of candidate(key) and the total votes(value)\n",
    "# Return the winner using a max function of the dictionary \n",
    "dict_candidates_and_votes = dict(zip(candidates,votes))\n",
    "key = max(dict_candidates_and_votes, key=dict_candidates_and_votes.get)\n"
   ]
  },
  {
   "cell_type": "code",
   "execution_count": 6,
   "metadata": {},
   "outputs": [
    {
     "data": {
      "text/plain": [
       "[14212, 33772, 111789, 69361, 2933, 1694, 686, 982, 560, 1556, 2932]"
      ]
     },
     "execution_count": 6,
     "metadata": {},
     "output_type": "execute_result"
    }
   ],
   "source": [
    "votes"
   ]
  },
  {
   "cell_type": "code",
   "execution_count": 7,
   "metadata": {},
   "outputs": [],
   "source": [
    "# Print a the summary of the analysis\n",
    "boykins_percent = (boykins_votes/total_votes) *100\n",
    "king_percent = (king_votes/total_votes) *100\n",
    "turner_percent = (turner_votes/total_votes) *100\n",
    "buzbee_percent = (buzbee_votes/total_votes) *100\n",
    "romero_percent = (romero_votes/total_votes) *100\n",
    "smith_percent = (smith_votes/total_votes) *100\n",
    "broze_percent = (broze_votes/total_votes) *100\n",
    "#taylor_percent = (taylor_votes/total_votes) *100\n",
    "baker_percent = (baker_votes/total_votes) *100\n",
    "houjami_percent = (houjami_votes/total_votes) *100\n",
    "vasquez_percent = (vasquez_votes/total_votes) *100\n",
    "lovell_percent = (lovell_votes/total_votes) *100\n",
    "\n"
   ]
  },
  {
   "cell_type": "code",
   "execution_count": 9,
   "metadata": {},
   "outputs": [
    {
     "name": "stdout",
     "output_type": "stream",
     "text": [
      "Houston Mayoral Election Results\n",
      "----------------------------\n",
      "Total Cast Votes: 241032\n",
      "----------------------------\n",
      "Boykins: 5.896% (14212)\n",
      "King: 14.011% (33772)\n",
      "Turner: 46.379% (111789)\n",
      "Buzbee: 28.777% (69361)\n",
      "Romero: 1.217% (2933)\n",
      "Smith: 0.703% (1694)\n",
      "Broze: 0.285% (686)\n",
      "Baker: 0.407% (982)\n",
      "Houjami: 0.232% (560)\n",
      "Vasquez: 0.646% (1556)\n",
      "Lovell: 1.216% (2932)\n",
      "----------------------------\n",
      "Winner: Sylvester Turner\n",
      "----------------------------\n"
     ]
    }
   ],
   "source": [
    "# Print the summary table\n",
    "print(f\"Houston Mayoral Election Results\")\n",
    "print(f\"----------------------------\")\n",
    "print(f\"Total Cast Votes: {total_votes}\")\n",
    "print(f\"----------------------------\")\n",
    "\n",
    "print(f\"Boykins: {boykins_percent:.3f}% ({boykins_votes})\")\n",
    "print(f\"King: {king_percent:.3f}% ({king_votes})\")\n",
    "print(f\"Turner: {turner_percent:.3f}% ({turner_votes})\")\n",
    "print(f\"Buzbee: {buzbee_percent:.3f}% ({buzbee_votes})\")\n",
    "print(f\"Romero: {romero_percent:.3f}% ({romero_votes})\")\n",
    "print(f\"Smith: {smith_percent:.3f}% ({smith_votes})\")\n",
    "print(f\"Broze: {broze_percent:.3f}% ({broze_votes})\")\n",
    "#print(f\"Taylor: {taylor_percent:.3f}% ({taylor_votes})\")\n",
    "print(f\"Baker: {baker_percent:.3f}% ({baker_votes})\")\n",
    "print(f\"Houjami: {houjami_percent:.3f}% ({houjami_votes})\")\n",
    "print(f\"Vasquez: {vasquez_percent:.3f}% ({vasquez_votes})\")\n",
    "print(f\"Lovell: {lovell_percent:.3f}% ({lovell_votes})\")\n",
    "\n",
    "print(f\"----------------------------\")\n",
    "print(f\"Winner: {key}\")\n",
    "#print(f\"1st Advancing Candidate: {key[0]}\")\n",
    "#print(f\"2nd Advancing Candidate: {key[1]}\")\n",
    "print(f\"----------------------------\")\n",
    "\n"
   ]
  },
  {
   "cell_type": "code",
   "execution_count": null,
   "metadata": {},
   "outputs": [],
   "source": [
    "# Output file\n",
    "\n",
    "output_file = Path(\"My-python-challenge\", \"PyElections\", \"elections_summary.txt\")\n",
    "\n",
    "with open(output_file,\"w\") as file:\n",
    "\n",
    "# Print Elections Summary to txt file\n",
    "    file.write(f\"Houston Mayoral Election Results\")\n",
    "    file.write(\"\\n\")\n",
    "    file.write(f\"----------------------------\")\n",
    "    file.write(\"\\n\")\n",
    "    file.write(f\"Total Cast Votes: {total_votes}\")\n",
    "    file.write(\"\\n\")\n",
    "    file.write(f\"----------------------------\")\n",
    "    file.write(\"\\n\")\n",
    "    file.write(f\"Boykins: {boykins_percent:.3f}% ({boykins_votes})\")\n",
    "    file.write(\"\\n\")\n",
    "    file.write(f\"King: {king_percent:.3f}% ({king_votes})\")\n",
    "    file.write(\"\\n\")\n",
    "    file.write(f\"Turner: {turner_percent:.3f}% ({turner_votes})\")\n",
    "    file.write(\"\\n\")\n",
    "    file.write(f\"Buzbee: {buzbee_percent:.3f}% ({buzbee_votes})\")\n",
    "    file.write(\"\\n\")\n",
    "    file.write(f\"Romero: {romero_percent:.3f}% ({romero_votes})\")\n",
    "    file.write(\"\\n\")\n",
    "    file.write(f\"Smith: {smith_percent:.3f}% ({smith_votes})\")\n",
    "    file.write(\"\\n\")\n",
    "    file.write(f\"Broze: {broze_percent:.3f}% ({broze_votes})\")\n",
    "    file.write(\"\\n\")\n",
    "    #file.write(f\"Taylor: {taylor_percent:.3f}% ({taylor_votes})\")\n",
    "    file.write(f\"Baker: {baker_percent:.3f}% ({baker_votes})\")\n",
    "    file.write(\"\\n\")\n",
    "    file.write(f\"Houjami: {houjami_percent:.3f}% ({houjami_votes})\")\n",
    "    file.write(\"\\n\")\n",
    "    file.write(f\"Vasquez: {vasquez_percent:.3f}% ({vasquez_votes})\")\n",
    "    file.write(\"\\n\")\n",
    "    file.write(f\"Lovell: {lovell_percent:.3f}% ({lovell_votes})\")\n",
    "    file.write(\"\\n\")\n",
    "    file.write(f\"----------------------------\")\n",
    "    file.write(\"\\n\")\n",
    "    file.write(f\"Winner: {key}\")\n",
    "    file.write(\"\\n\")\n",
    "    file.write(f\"----------------------------\")"
   ]
  },
  {
   "cell_type": "code",
   "execution_count": null,
   "metadata": {},
   "outputs": [],
   "source": []
  },
  {
   "cell_type": "code",
   "execution_count": null,
   "metadata": {},
   "outputs": [],
   "source": []
  }
 ],
 "metadata": {
  "kernelspec": {
   "display_name": "Python 3.7.4 64-bit ('base': conda)",
   "language": "python",
   "name": "python37464bitbaseconda62d1e6a2ced74c59ba721e6af2bbdf02"
  },
  "language_info": {
   "codemirror_mode": {
    "name": "ipython",
    "version": 3
   },
   "file_extension": ".py",
   "mimetype": "text/x-python",
   "name": "python",
   "nbconvert_exporter": "python",
   "pygments_lexer": "ipython3",
   "version": "3.7.4"
  }
 },
 "nbformat": 4,
 "nbformat_minor": 2
}
